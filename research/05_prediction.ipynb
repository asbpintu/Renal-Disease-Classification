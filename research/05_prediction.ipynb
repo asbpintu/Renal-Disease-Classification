{
 "cells": [
  {
   "cell_type": "code",
   "execution_count": 3,
   "metadata": {},
   "outputs": [],
   "source": [
    "import numpy as np\n",
    "from tensorflow.keras.models import load_model\n",
    "from tensorflow.keras.preprocessing import image\n",
    "import os"
   ]
  },
  {
   "cell_type": "code",
   "execution_count": 3,
   "metadata": {},
   "outputs": [
    {
     "data": {
      "text/plain": [
       "'c:\\\\Users\\\\asbpi\\\\Desktop\\\\ASB\\\\Data_Science\\\\Projects\\\\MY Projects\\\\Renal-Disease-Classification'"
      ]
     },
     "execution_count": 3,
     "metadata": {},
     "output_type": "execute_result"
    }
   ],
   "source": [
    "pwd"
   ]
  },
  {
   "cell_type": "code",
   "execution_count": 8,
   "metadata": {},
   "outputs": [],
   "source": [
    "os.chdir('../')"
   ]
  },
  {
   "cell_type": "code",
   "execution_count": 5,
   "metadata": {},
   "outputs": [
    {
     "data": {
      "text/plain": [
       "'c:\\\\Users\\\\asbpi\\\\Desktop\\\\ASB\\\\Data_Science\\\\Projects\\\\MY Projects\\\\Renal-Disease-Classification'"
      ]
     },
     "execution_count": 5,
     "metadata": {},
     "output_type": "execute_result"
    }
   ],
   "source": [
    "pwd"
   ]
  },
  {
   "cell_type": "code",
   "execution_count": 31,
   "metadata": {},
   "outputs": [],
   "source": [
    "def predict(filename):\n",
    "\n",
    "    model = load_model(os.path.join(\"artifacts\",\"training\",\"model.h5\"))\n",
    "\n",
    "    imagename = filename\n",
    "    test_image = image.load_img(imagename, target_size = (224,224))\n",
    "    img_array = image.img_to_array(test_image)\n",
    "    img_array = np.expand_dims(img_array, axis = 0)\n",
    "    img_array = img_array / 255.0\n",
    "    result = np.argmax(model.predict(img_array), axis=1)\n",
    "    print(result[0])\n",
    "\n",
    "    if result[0] == 0:\n",
    "        prediction = 'Normal'\n",
    "        return [{\"image\": prediction}]\n",
    "    else:\n",
    "        prediction = 'Tumor'\n",
    "        return [{\"image\": prediction}]\n",
    "    \n",
    "\n",
    "# correct"
   ]
  },
  {
   "cell_type": "code",
   "execution_count": 27,
   "metadata": {},
   "outputs": [],
   "source": [
    "def predict(filename):\n",
    "    # load model\n",
    "    model = load_model(os.path.join(\"artifacts\", \"training\", \"model.h5\"))\n",
    "\n",
    "    imagename = filename\n",
    "    test_image = image.load_img(imagename, target_size=(224, 224))\n",
    "    img_array = image.img_to_array(test_image)\n",
    "    img_array = np.expand_dims(img_array, axis=0)\n",
    "    img_array = img_array / 255.0  # Normalize pixel values to be between 0 and 1\n",
    "    \n",
    "    # Debugging: Print raw output probabilities\n",
    "    raw_predictions = model.predict(img_array)\n",
    "    print(\"Raw Predictions:\", raw_predictions)\n",
    "\n",
    "    # Debugging: Print the result of argmax\n",
    "    result = np.argmax(raw_predictions, axis=1)\n",
    "    print(\"Argmax Result:\", result[0])\n",
    "\n",
    "    if result[0] == 0:\n",
    "        prediction = 'Normal'\n",
    "        return [{\"image\": prediction}]\n",
    "    else:\n",
    "        prediction = 'Tumor'\n",
    "        return [{\"image\": prediction}]\n",
    "\n"
   ]
  },
  {
   "cell_type": "code",
   "execution_count": 33,
   "metadata": {},
   "outputs": [
    {
     "name": "stdout",
     "output_type": "stream",
     "text": [
      "1/1 [==============================] - 0s 370ms/step\n",
      "0\n"
     ]
    },
    {
     "data": {
      "text/plain": [
       "[{'image': 'Normal'}]"
      ]
     },
     "execution_count": 33,
     "metadata": {},
     "output_type": "execute_result"
    }
   ],
   "source": [
    "predict('p_image.jpg')"
   ]
  },
  {
   "cell_type": "code",
   "execution_count": null,
   "metadata": {},
   "outputs": [],
   "source": []
  },
  {
   "cell_type": "code",
   "execution_count": 14,
   "metadata": {},
   "outputs": [
    {
     "data": {
      "text/plain": [
       "'c:\\\\Users\\\\asbpi\\\\Desktop\\\\ASB\\\\Data_Science\\\\Projects\\\\MY Projects\\\\Renal-Disease-Classification'"
      ]
     },
     "execution_count": 14,
     "metadata": {},
     "output_type": "execute_result"
    }
   ],
   "source": [
    "pwd"
   ]
  },
  {
   "cell_type": "code",
   "execution_count": 20,
   "metadata": {},
   "outputs": [
    {
     "name": "stdout",
     "output_type": "stream",
     "text": [
      "1/1 [==============================] - 0s 330ms/step\n",
      "[[8.682470e-08 9.999999e-01]]\n"
     ]
    }
   ],
   "source": [
    "# import cv2\n",
    "import numpy as np\n",
    "from tensorflow.keras.models import load_model\n",
    "from tensorflow.keras.preprocessing import image\n",
    "\n",
    "# Load your custom model\n",
    "custom_model = load_model(r'artifacts\\training\\model.h5')\n",
    "\n",
    "# Function to preprocess the input image\n",
    "def preprocess_image(image_path):\n",
    "    img = image.load_img(image_path, target_size=(224, 224))  # Adjust the target size as needed\n",
    "    img_array = image.img_to_array(img)\n",
    "    img_array = np.expand_dims(img_array, axis=0)\n",
    "    img_array = img_array / 255.0  # Normalize pixel values to be between 0 and 1\n",
    "    return img_array\n",
    "\n",
    "# Function to classify the image using your custom model\n",
    "def classify_image(model, image_path):\n",
    "    img_array = preprocess_image(image_path)\n",
    "    predictions = model.predict(img_array)\n",
    "    return predictions\n",
    "\n",
    "# Example usage\n",
    "image_path = 'p_image.jpg'\n",
    "predictions = classify_image(custom_model, image_path)\n",
    "\n",
    "# Display or use the predictions as needed\n",
    "print(predictions)\n"
   ]
  },
  {
   "cell_type": "code",
   "execution_count": 9,
   "metadata": {},
   "outputs": [
    {
     "data": {
      "text/plain": [
       "'c:\\\\Users\\\\asbpi\\\\Desktop\\\\ASB\\\\Data_Science\\\\Projects\\\\MY Projects\\\\Renal-Disease-Classification'"
      ]
     },
     "execution_count": 9,
     "metadata": {},
     "output_type": "execute_result"
    }
   ],
   "source": [
    "pwd"
   ]
  },
  {
   "cell_type": "code",
   "execution_count": 14,
   "metadata": {},
   "outputs": [],
   "source": [
    "def predict(filename):\n",
    "\n",
    "        model = load_model(os.path.join(\"artifacts\",\"training\",\"model.h5\"))\n",
    "\n",
    "        imagename = filename\n",
    "        test_image = image.load_img(imagename, target_size = (224,224))\n",
    "        img_array = image.img_to_array(test_image)\n",
    "        img_array = np.expand_dims(img_array, axis = 0)\n",
    "        img_array = img_array / 255.0\n",
    "        result = np.argmax(model.predict(img_array), axis=1)\n",
    "        print(result[0])\n",
    "\n",
    "        if result[0] == 0:\n",
    "            prediction = 'Normal'\n",
    "            return [{\"image\": prediction}]\n",
    "        else:\n",
    "            prediction = 'Tumor'\n",
    "            return [{\"image\": prediction}]\n",
    "        \n",
    "        return imagename"
   ]
  },
  {
   "cell_type": "code",
   "execution_count": 15,
   "metadata": {},
   "outputs": [
    {
     "name": "stdout",
     "output_type": "stream",
     "text": [
      "1/1 [==============================] - 0s 226ms/step\n",
      "1\n"
     ]
    },
    {
     "data": {
      "text/plain": [
       "[{'image': 'Tumor'}]"
      ]
     },
     "execution_count": 15,
     "metadata": {},
     "output_type": "execute_result"
    }
   ],
   "source": [
    "predict('image.jpg')"
   ]
  },
  {
   "cell_type": "code",
   "execution_count": null,
   "metadata": {},
   "outputs": [],
   "source": []
  },
  {
   "cell_type": "code",
   "execution_count": null,
   "metadata": {},
   "outputs": [],
   "source": []
  }
 ],
 "metadata": {
  "kernelspec": {
   "display_name": "venv",
   "language": "python",
   "name": "python3"
  },
  "language_info": {
   "codemirror_mode": {
    "name": "ipython",
    "version": 3
   },
   "file_extension": ".py",
   "mimetype": "text/x-python",
   "name": "python",
   "nbconvert_exporter": "python",
   "pygments_lexer": "ipython3",
   "version": "3.9.18"
  }
 },
 "nbformat": 4,
 "nbformat_minor": 2
}
