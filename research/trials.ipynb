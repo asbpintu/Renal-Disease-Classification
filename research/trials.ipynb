{
 "cells": [
  {
   "cell_type": "markdown",
   "metadata": {},
   "source": [
    "# Download data from Google drive"
   ]
  },
  {
   "cell_type": "code",
   "execution_count": 2,
   "metadata": {},
   "outputs": [],
   "source": [
    "import gdown"
   ]
  },
  {
   "cell_type": "code",
   "execution_count": 3,
   "metadata": {},
   "outputs": [],
   "source": [
    "link = 'https://drive.google.com/file/d/1IgitLu2l1QMW77SF7JFcHNZdDaO8SBIP/view?usp=sharing'"
   ]
  },
  {
   "cell_type": "code",
   "execution_count": 6,
   "metadata": {},
   "outputs": [
    {
     "data": {
      "text/plain": [
       "'1IgitLu2l1QMW77SF7JFcHNZdDaO8SBIP'"
      ]
     },
     "execution_count": 6,
     "metadata": {},
     "output_type": "execute_result"
    }
   ],
   "source": [
    "data_id = link.split('/')[-2]\n",
    "data_id"
   ]
  },
  {
   "cell_type": "code",
   "execution_count": 7,
   "metadata": {},
   "outputs": [],
   "source": [
    "download_link = 'http://drive.google.com/uc?/export=download&id='"
   ]
  },
  {
   "cell_type": "code",
   "execution_count": 9,
   "metadata": {},
   "outputs": [
    {
     "name": "stderr",
     "output_type": "stream",
     "text": [
      "Downloading...\n",
      "From (uriginal): http://drive.google.com/uc?/export=download&id=1IgitLu2l1QMW77SF7JFcHNZdDaO8SBIP\n",
      "From (redirected): https://drive.google.com/uc?/export=download&id=1IgitLu2l1QMW77SF7JFcHNZdDaO8SBIP&confirm=t&uuid=abfc02ac-d9c5-4b0f-9d4c-514fb6f363c5\n",
      "To: c:\\Users\\asbpi\\Desktop\\ASB\\Data_Science\\Projects\\MY Projects\\Renal-Disease-Classification\\research\\kidney-CTscan-img.zip\n",
      "100%|██████████| 132M/132M [00:03<00:00, 42.0MB/s]\n"
     ]
    },
    {
     "data": {
      "text/plain": [
       "'kidney-CTscan-img.zip'"
      ]
     },
     "execution_count": 9,
     "metadata": {},
     "output_type": "execute_result"
    },
    {
     "name": "stderr",
     "output_type": "stream",
     "text": [
      " 10%|█         | 13.6M/132M [02:30<16:20, 121kB/s]"
     ]
    }
   ],
   "source": [
    "gdown.download(download_link+data_id, 'kidney-CTscan-img.zip')"
   ]
  },
  {
   "cell_type": "code",
   "execution_count": null,
   "metadata": {},
   "outputs": [],
   "source": []
  }
 ],
 "metadata": {
  "kernelspec": {
   "display_name": "venv",
   "language": "python",
   "name": "python3"
  },
  "language_info": {
   "codemirror_mode": {
    "name": "ipython",
    "version": 3
   },
   "file_extension": ".py",
   "mimetype": "text/x-python",
   "name": "python",
   "nbconvert_exporter": "python",
   "pygments_lexer": "ipython3",
   "version": "3.9.18"
  }
 },
 "nbformat": 4,
 "nbformat_minor": 2
}
